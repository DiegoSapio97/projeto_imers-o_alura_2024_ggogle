{
  "nbformat": 4,
  "nbformat_minor": 0,
  "metadata": {
    "colab": {
      "provenance": [],
      "authorship_tag": "ABX9TyPBjtCHmWiIaUZOrvz7YCkb",
      "include_colab_link": true
    },
    "kernelspec": {
      "name": "python3",
      "display_name": "Python 3"
    },
    "language_info": {
      "name": "python"
    }
  },
  "cells": [
    {
      "cell_type": "markdown",
      "metadata": {
        "id": "view-in-github",
        "colab_type": "text"
      },
      "source": [
        "<a href=\"https://colab.research.google.com/github/DiegoSapio97/projeto_imers-o_alura_2024_ggogle/blob/main/imers%C3%A3o_alura_Projeto_Diego_Sapio.ipynb\" target=\"_parent\"><img src=\"https://colab.research.google.com/assets/colab-badge.svg\" alt=\"Open In Colab\"/></a>"
      ]
    },
    {
      "cell_type": "markdown",
      "source": [
        "Instanlando SOK do google"
      ],
      "metadata": {
        "id": "969CP25wpwKY"
      }
    },
    {
      "cell_type": "code",
      "execution_count": 1,
      "metadata": {
        "id": "vw76Gs_Gpdqb"
      },
      "outputs": [],
      "source": [
        "!pip install -q -U google-generativeai"
      ]
    },
    {
      "cell_type": "markdown",
      "source": [
        "pegando chave API e conectando"
      ],
      "metadata": {
        "id": "5umzp_fxrEO2"
      }
    },
    {
      "cell_type": "code",
      "source": [
        "# Import the Python SDK\n",
        "import google.generativeai as genai\n",
        "# Used to securely store your API key\n",
        "from google.colab import userdata\n",
        "\n",
        "GOOGLE_API_KEY=userdata.get='CHAVE-API'\n",
        "genai.configure(api_key=GOOGLE_API_KEY)"
      ],
      "metadata": {
        "id": "WBKph0oUrOSB"
      },
      "execution_count": 2,
      "outputs": []
    },
    {
      "cell_type": "markdown",
      "source": [
        "qual modelo generativo"
      ],
      "metadata": {
        "id": "JPfamk1Vrbpz"
      }
    },
    {
      "cell_type": "code",
      "source": [
        "model = genai.GenerativeModel('gemini-pro')"
      ],
      "metadata": {
        "id": "gp6nZnQzrfHs"
      },
      "execution_count": 3,
      "outputs": []
    },
    {
      "cell_type": "markdown",
      "source": [
        "codigo importante para você inserir a descrição da vaga"
      ],
      "metadata": {
        "id": "bcIdw7kzri5w"
      }
    },
    {
      "cell_type": "code",
      "source": [
        "# ... (código de importação de bibliotecas) ...\n",
        "\n",
        "# 1. Obter a descrição da vaga do usuário\n",
        "descricao_vaga = input(\"Insira a descrição da vaga: \")\n",
        "\n",
        "# ... (restante do código) ..."
      ],
      "metadata": {
        "colab": {
          "base_uri": "https://localhost:8080/"
        },
        "id": "EOOjHvnxOtMB",
        "outputId": "ea80bf4c-29e4-4024-ee20-64d48770b58c"
      },
      "execution_count": 16,
      "outputs": [
        {
          "name": "stdout",
          "output_type": "stream",
          "text": [
            "Insira a descrição da vaga: Buscamos um profissional com brilho nos olhos, de fácil relacionamento e inquieto na busca por sua evolução: O Gerente de Contas atuará como uma das peças fundamentais para a entrega de valor da solução: Seu principal desafio será se adaptar em um ambiente de constante transformação, ajudar na identificação de oportunidades de melhorias do produto, manter um relacionamento próximo ao cliente, e contribuir para a empresa alcançar as metas de indicadores e NPS:  Terá as seguintes responsabilidades principais  Onboarding/Alinhamento de novos clientes e projetos;  Envio de pesquisa de satisfação e follow-up;  Atendimento e reuniões de acompanhamento com os clientes para suporte durante o uso da solução;  Testes e acompanhamento de indicadores das vagas e performance das estratégias de captação de candidatos;  Análise de compatibilidade do perfil x projeto/vaga;  Apoio ao cliente na validação do setup inicial da vaga buscando garantir o máximo aproveitamento da solução;  Mapeamento e contato com profissionais através do LinkedIn, Catho, Indeed e outras ferramentas de recrutamento;  Envolvimento ativo nas reuniões e estratégias para o desenvolvimento do produto e da operação;    Requisitos necessários   Relacionamento com clientes B2B :Empresas:;  Desejável: Inglês ou Espanhol;  Formação superior concluída;  Capacidade de se comunicar com pessoas de diferentes níveis hierárquicos;  Experiência com Gerente de Contas/Customer Success ou Recrutamento e Seleção;  Perfil proativo, dinâmico, adaptável e ágil;    Regiões em que deve residir     Remuneração e benefícios   Plano odontológico - DentalUni  Outros - Vale Refeição,Até R$200 em reembolso de Home Office,Plano de Saúde    Tipo de contratação    CLT\n"
          ]
        }
      ]
    },
    {
      "cell_type": "markdown",
      "source": [
        "não esqueça de executar"
      ],
      "metadata": {
        "id": "M4tcvkDlYiFf"
      }
    },
    {
      "cell_type": "markdown",
      "source": [],
      "metadata": {
        "id": "gKI0kwG1Y8ff"
      }
    },
    {
      "cell_type": "code",
      "source": [
        "!pip install nltk"
      ],
      "metadata": {
        "colab": {
          "base_uri": "https://localhost:8080/"
        },
        "id": "DyOgalGIWZt1",
        "outputId": "a18f389b-76d4-40f7-8251-bb82b463d582"
      },
      "execution_count": 28,
      "outputs": [
        {
          "output_type": "stream",
          "name": "stdout",
          "text": [
            "Requirement already satisfied: nltk in /usr/local/lib/python3.10/dist-packages (3.8.1)\n",
            "Requirement already satisfied: click in /usr/local/lib/python3.10/dist-packages (from nltk) (8.1.7)\n",
            "Requirement already satisfied: joblib in /usr/local/lib/python3.10/dist-packages (from nltk) (1.4.2)\n",
            "Requirement already satisfied: regex>=2021.8.3 in /usr/local/lib/python3.10/dist-packages (from nltk) (2023.12.25)\n",
            "Requirement already satisfied: tqdm in /usr/local/lib/python3.10/dist-packages (from nltk) (4.66.4)\n"
          ]
        }
      ]
    },
    {
      "cell_type": "markdown",
      "source": [
        "você precisa baixar e executar, para ele entender e interpretar em português"
      ],
      "metadata": {
        "id": "QMNTlX6rYT5-"
      }
    },
    {
      "cell_type": "code",
      "source": [
        "!python -m spacy download pt_core_news_sm"
      ],
      "metadata": {
        "colab": {
          "base_uri": "https://localhost:8080/"
        },
        "id": "mcz-vOTTXCyb",
        "outputId": "8f59dcd9-0b13-49d0-962c-6cdf02291898"
      },
      "execution_count": 2,
      "outputs": [
        {
          "output_type": "stream",
          "name": "stdout",
          "text": [
            "Collecting pt-core-news-sm==3.7.0\n",
            "  Downloading https://github.com/explosion/spacy-models/releases/download/pt_core_news_sm-3.7.0/pt_core_news_sm-3.7.0-py3-none-any.whl (13.0 MB)\n",
            "\u001b[2K     \u001b[90m━━━━━━━━━━━━━━━━━━━━━━━━━━━━━━━━━━━━━━━━\u001b[0m \u001b[32m13.0/13.0 MB\u001b[0m \u001b[31m29.1 MB/s\u001b[0m eta \u001b[36m0:00:00\u001b[0m\n",
            "\u001b[?25hRequirement already satisfied: spacy<3.8.0,>=3.7.0 in /usr/local/lib/python3.10/dist-packages (from pt-core-news-sm==3.7.0) (3.7.4)\n",
            "Requirement already satisfied: spacy-legacy<3.1.0,>=3.0.11 in /usr/local/lib/python3.10/dist-packages (from spacy<3.8.0,>=3.7.0->pt-core-news-sm==3.7.0) (3.0.12)\n",
            "Requirement already satisfied: spacy-loggers<2.0.0,>=1.0.0 in /usr/local/lib/python3.10/dist-packages (from spacy<3.8.0,>=3.7.0->pt-core-news-sm==3.7.0) (1.0.5)\n",
            "Requirement already satisfied: murmurhash<1.1.0,>=0.28.0 in /usr/local/lib/python3.10/dist-packages (from spacy<3.8.0,>=3.7.0->pt-core-news-sm==3.7.0) (1.0.10)\n",
            "Requirement already satisfied: cymem<2.1.0,>=2.0.2 in /usr/local/lib/python3.10/dist-packages (from spacy<3.8.0,>=3.7.0->pt-core-news-sm==3.7.0) (2.0.8)\n",
            "Requirement already satisfied: preshed<3.1.0,>=3.0.2 in /usr/local/lib/python3.10/dist-packages (from spacy<3.8.0,>=3.7.0->pt-core-news-sm==3.7.0) (3.0.9)\n",
            "Requirement already satisfied: thinc<8.3.0,>=8.2.2 in /usr/local/lib/python3.10/dist-packages (from spacy<3.8.0,>=3.7.0->pt-core-news-sm==3.7.0) (8.2.3)\n",
            "Requirement already satisfied: wasabi<1.2.0,>=0.9.1 in /usr/local/lib/python3.10/dist-packages (from spacy<3.8.0,>=3.7.0->pt-core-news-sm==3.7.0) (1.1.2)\n",
            "Requirement already satisfied: srsly<3.0.0,>=2.4.3 in /usr/local/lib/python3.10/dist-packages (from spacy<3.8.0,>=3.7.0->pt-core-news-sm==3.7.0) (2.4.8)\n",
            "Requirement already satisfied: catalogue<2.1.0,>=2.0.6 in /usr/local/lib/python3.10/dist-packages (from spacy<3.8.0,>=3.7.0->pt-core-news-sm==3.7.0) (2.0.10)\n",
            "Requirement already satisfied: weasel<0.4.0,>=0.1.0 in /usr/local/lib/python3.10/dist-packages (from spacy<3.8.0,>=3.7.0->pt-core-news-sm==3.7.0) (0.3.4)\n",
            "Requirement already satisfied: typer<0.10.0,>=0.3.0 in /usr/local/lib/python3.10/dist-packages (from spacy<3.8.0,>=3.7.0->pt-core-news-sm==3.7.0) (0.9.4)\n",
            "Requirement already satisfied: smart-open<7.0.0,>=5.2.1 in /usr/local/lib/python3.10/dist-packages (from spacy<3.8.0,>=3.7.0->pt-core-news-sm==3.7.0) (6.4.0)\n",
            "Requirement already satisfied: tqdm<5.0.0,>=4.38.0 in /usr/local/lib/python3.10/dist-packages (from spacy<3.8.0,>=3.7.0->pt-core-news-sm==3.7.0) (4.66.4)\n",
            "Requirement already satisfied: requests<3.0.0,>=2.13.0 in /usr/local/lib/python3.10/dist-packages (from spacy<3.8.0,>=3.7.0->pt-core-news-sm==3.7.0) (2.31.0)\n",
            "Requirement already satisfied: pydantic!=1.8,!=1.8.1,<3.0.0,>=1.7.4 in /usr/local/lib/python3.10/dist-packages (from spacy<3.8.0,>=3.7.0->pt-core-news-sm==3.7.0) (2.7.1)\n",
            "Requirement already satisfied: jinja2 in /usr/local/lib/python3.10/dist-packages (from spacy<3.8.0,>=3.7.0->pt-core-news-sm==3.7.0) (3.1.4)\n",
            "Requirement already satisfied: setuptools in /usr/local/lib/python3.10/dist-packages (from spacy<3.8.0,>=3.7.0->pt-core-news-sm==3.7.0) (67.7.2)\n",
            "Requirement already satisfied: packaging>=20.0 in /usr/local/lib/python3.10/dist-packages (from spacy<3.8.0,>=3.7.0->pt-core-news-sm==3.7.0) (24.0)\n",
            "Requirement already satisfied: langcodes<4.0.0,>=3.2.0 in /usr/local/lib/python3.10/dist-packages (from spacy<3.8.0,>=3.7.0->pt-core-news-sm==3.7.0) (3.4.0)\n",
            "Requirement already satisfied: numpy>=1.19.0 in /usr/local/lib/python3.10/dist-packages (from spacy<3.8.0,>=3.7.0->pt-core-news-sm==3.7.0) (1.25.2)\n",
            "Requirement already satisfied: language-data>=1.2 in /usr/local/lib/python3.10/dist-packages (from langcodes<4.0.0,>=3.2.0->spacy<3.8.0,>=3.7.0->pt-core-news-sm==3.7.0) (1.2.0)\n",
            "Requirement already satisfied: annotated-types>=0.4.0 in /usr/local/lib/python3.10/dist-packages (from pydantic!=1.8,!=1.8.1,<3.0.0,>=1.7.4->spacy<3.8.0,>=3.7.0->pt-core-news-sm==3.7.0) (0.6.0)\n",
            "Requirement already satisfied: pydantic-core==2.18.2 in /usr/local/lib/python3.10/dist-packages (from pydantic!=1.8,!=1.8.1,<3.0.0,>=1.7.4->spacy<3.8.0,>=3.7.0->pt-core-news-sm==3.7.0) (2.18.2)\n",
            "Requirement already satisfied: typing-extensions>=4.6.1 in /usr/local/lib/python3.10/dist-packages (from pydantic!=1.8,!=1.8.1,<3.0.0,>=1.7.4->spacy<3.8.0,>=3.7.0->pt-core-news-sm==3.7.0) (4.11.0)\n",
            "Requirement already satisfied: charset-normalizer<4,>=2 in /usr/local/lib/python3.10/dist-packages (from requests<3.0.0,>=2.13.0->spacy<3.8.0,>=3.7.0->pt-core-news-sm==3.7.0) (3.3.2)\n",
            "Requirement already satisfied: idna<4,>=2.5 in /usr/local/lib/python3.10/dist-packages (from requests<3.0.0,>=2.13.0->spacy<3.8.0,>=3.7.0->pt-core-news-sm==3.7.0) (3.7)\n",
            "Requirement already satisfied: urllib3<3,>=1.21.1 in /usr/local/lib/python3.10/dist-packages (from requests<3.0.0,>=2.13.0->spacy<3.8.0,>=3.7.0->pt-core-news-sm==3.7.0) (2.0.7)\n",
            "Requirement already satisfied: certifi>=2017.4.17 in /usr/local/lib/python3.10/dist-packages (from requests<3.0.0,>=2.13.0->spacy<3.8.0,>=3.7.0->pt-core-news-sm==3.7.0) (2024.2.2)\n",
            "Requirement already satisfied: blis<0.8.0,>=0.7.8 in /usr/local/lib/python3.10/dist-packages (from thinc<8.3.0,>=8.2.2->spacy<3.8.0,>=3.7.0->pt-core-news-sm==3.7.0) (0.7.11)\n",
            "Requirement already satisfied: confection<1.0.0,>=0.0.1 in /usr/local/lib/python3.10/dist-packages (from thinc<8.3.0,>=8.2.2->spacy<3.8.0,>=3.7.0->pt-core-news-sm==3.7.0) (0.1.4)\n",
            "Requirement already satisfied: click<9.0.0,>=7.1.1 in /usr/local/lib/python3.10/dist-packages (from typer<0.10.0,>=0.3.0->spacy<3.8.0,>=3.7.0->pt-core-news-sm==3.7.0) (8.1.7)\n",
            "Requirement already satisfied: cloudpathlib<0.17.0,>=0.7.0 in /usr/local/lib/python3.10/dist-packages (from weasel<0.4.0,>=0.1.0->spacy<3.8.0,>=3.7.0->pt-core-news-sm==3.7.0) (0.16.0)\n",
            "Requirement already satisfied: MarkupSafe>=2.0 in /usr/local/lib/python3.10/dist-packages (from jinja2->spacy<3.8.0,>=3.7.0->pt-core-news-sm==3.7.0) (2.1.5)\n",
            "Requirement already satisfied: marisa-trie>=0.7.7 in /usr/local/lib/python3.10/dist-packages (from language-data>=1.2->langcodes<4.0.0,>=3.2.0->spacy<3.8.0,>=3.7.0->pt-core-news-sm==3.7.0) (1.1.1)\n",
            "Installing collected packages: pt-core-news-sm\n",
            "Successfully installed pt-core-news-sm-3.7.0\n",
            "\u001b[38;5;2m✔ Download and installation successful\u001b[0m\n",
            "You can now load the package via spacy.load('pt_core_news_sm')\n",
            "\u001b[38;5;3m⚠ Restart to reload dependencies\u001b[0m\n",
            "If you are in a Jupyter or Colab notebook, you may need to restart Python in\n",
            "order to load all the package's dependencies. You can do this by selecting the\n",
            "'Restart kernel' or 'Restart runtime' option.\n"
          ]
        }
      ]
    },
    {
      "cell_type": "markdown",
      "source": [
        "depois de baixar e executar tudo ele rodar legal, primeiro vai pedir descrição da vaga, depois escrever seu currculo (pode copiar e colar) da dois entender e ele vai fazer a analise"
      ],
      "metadata": {
        "id": "iwVcpZTjWk5b"
      }
    },
    {
      "cell_type": "code",
      "source": [
        "\n",
        "\n",
        "\n",
        "\n",
        "# Importar bibliotecas necessárias (instale-as se necessário: pip install nltk spacy)\n",
        "import nltk\n",
        "import spacy\n",
        "\n",
        "# Baixar pacotes de processamento de linguagem natural\n",
        "nltk.download('punkt')\n",
        "nltk.download('stopwords')\n",
        "\n",
        "# Carregar modelo SpaCy\n",
        "nlp = spacy.load(\"pt_core_news_sm\")\n",
        "\n",
        "def calcular_compatibilidade(descricao_vaga, texto_curriculo, nlp):\n",
        "  \"\"\"\n",
        "  Calcula a compatibilidade entre a descrição da vaga e o texto do currículo,\n",
        "  considerando critérios comuns de plataformas ATS.\n",
        "\n",
        "  Args:\n",
        "      descricao_vaga (str): Descrição da vaga de emprego.\n",
        "      texto_curriculo (str): Texto do currículo do candidato.\n",
        "      nlp (spacy.language.Language): Modelo de linguagem SpaCy.\n",
        "\n",
        "  Returns:\n",
        "      tuple: Uma tupla contendo a pontuação de compatibilidade (0-100) e um feedback textual.\n",
        "  \"\"\"\n",
        "\n",
        "  # 1. Processamento de texto\n",
        "  descricao_tokens = [token.lemma_.lower() for token in nlp(descricao_vaga) if not token.is_stop and token.is_alpha]\n",
        "  curriculo_tokens = [token.lemma_.lower() for token in nlp(texto_curriculo) if not token.is_stop and token.is_alpha]\n",
        "\n",
        "  # 2. Análise de critérios ATS\n",
        "  pontuacao = 0\n",
        "\n",
        "  # 2.1. Palavras-chave (peso 40%)\n",
        "  palavras_chave_comuns = set(descricao_tokens).intersection(set(curriculo_tokens))\n",
        "  pontuacao_palavras_chave = len(palavras_chave_comuns) / len(descricao_tokens) * 40\n",
        "  pontuacao += pontuacao_palavras_chave\n",
        "\n",
        "  # 2.2 Experiência profissional (peso 25%) - requer análise mais complexa\n",
        "  # ... (implementar lógica para analisar experiência com base em cargos, empresas, anos, etc.) ...\n",
        "  pontuacao_experiencia = 0  # Substituir por cálculo real\n",
        "  pontuacao += pontuacao_experiencia\n",
        "\n",
        "  # 2.3. Formação educacional (peso 15%) - requer análise mais complexa\n",
        "  # ... (implementar lógica para analisar nível de escolaridade, cursos, etc.) ...\n",
        "  pontuacao_formacao = 0  # Substituir por cálculo real\n",
        "  pontuacao += pontuacao_formacao\n",
        "\n",
        "  # 2.4. Habilidades (peso 20%)\n",
        "  habilidades_comuns = set(descricao_tokens).intersection(set(curriculo_tokens))\n",
        "  pontuacao_habilidades = len(habilidades_comuns) / len(descricao_tokens) * 20\n",
        "  pontuacao += pontuacao_habilidades\n",
        "\n",
        "  # 3. Gerar feedback\n",
        "  feedback = \"Feedback:\\n\"\n",
        "  if pontuacao < 30:\n",
        "    feedback += \"- Baixa compatibilidade. Revise se seu currículo destaca as habilidades, experiências e qualificações exigidas na vaga. Pesquise sobre a área e a empresa para entender melhor o que eles buscam.\"\n",
        "  elif pontuacao < 60:\n",
        "    feedback += \"- Compatibilidade moderada. Seu currículo possui algumas características relevantes, mas pode ser aprimorado. Identifique as palavras-chave da descrição da vaga e tente incluí-las de forma natural no seu currículo. \"\n",
        "  elif pontuacao < 90:\n",
        "    feedback += \"- Boa compatibilidade. Seu currículo demonstra alinhamento com a vaga. Reforce os pontos fortes que se conectam com as necessidades da empresa.\"\n",
        "  else:\n",
        "    feedback += \"- Excelente compatibilidade! Seu currículo está muito alinhado com a vaga. Prepare-se para a entrevista e mostre seu entusiasmo pela oportunidade.\"\n",
        "\n",
        "  # 4. Sugestões de melhoria\n",
        "  feedback += \"\\nSugestões de melhoria:\\n\"\n",
        "  if pontuacao_palavras_chave < 20:\n",
        "    feedback += \"- Inclua mais palavras-chave relevantes da descrição da vaga no seu currículo.\\n\"\n",
        "  if pontuacao_experiencia < 10:\n",
        "    feedback += \"- Detalhe melhor sua experiência profissional, destacando cargos, empresas e responsabilidades.\\n\"\n",
        "  if pontuacao_formacao < 5:\n",
        "    feedback += \"- Forneça mais informações sobre sua formação educacional, incluindo cursos e instituições.\\n\"\n",
        "  if pontuacao_habilidades < 10:\n",
        "    feedback += \"- Destaque suas habilidades técnicas e comportamentais, usando exemplos concretos de como as aplicou em experiências anteriores.\\n\"\n",
        "\n",
        "  return pontuacao, feedback\n",
        "\n",
        "# 1. Obter a descrição da vaga do usuário\n",
        "descricao_vaga = input(\"Insira a descrição da vaga: \")\n",
        "\n",
        "# 2. Obter o texto do currículo do usuário\n",
        "print(\"Insira o texto do seu currículo (pressione Enter duas vezes para finalizar):\")\n",
        "texto_curriculo_linhas = []\n",
        "while True:\n",
        "  linha = input()\n",
        "  if not linha:\n",
        "    break\n",
        "  texto_curriculo_linhas.append(linha)\n",
        "\n",
        "texto_curriculo = '\\n'.join(texto_curriculo_linhas)\n",
        "\n",
        "# 3. Calcular e exibir a compatibilidade\n",
        "pontuacao, feedback = calcular_compatibilidade(descricao_vaga, texto_curriculo, nlp)\n",
        "\n",
        "print(f\"\\nPontuação de Compatibilidade: {pontuacao:.2f}%\")\n",
        "print(feedback)"
      ],
      "metadata": {
        "colab": {
          "base_uri": "https://localhost:8080/"
        },
        "id": "ZGO2RZcDPNOr",
        "outputId": "2dedaab8-54da-4cd5-9455-7efb5dfdd297"
      },
      "execution_count": 6,
      "outputs": [
        {
          "output_type": "stream",
          "name": "stderr",
          "text": [
            "[nltk_data] Downloading package punkt to /root/nltk_data...\n",
            "[nltk_data]   Package punkt is already up-to-date!\n",
            "[nltk_data] Downloading package stopwords to /root/nltk_data...\n",
            "[nltk_data]   Package stopwords is already up-to-date!\n"
          ]
        },
        {
          "output_type": "stream",
          "name": "stdout",
          "text": [
            "Insira a descrição da vaga: re you looking for a new challenge in a fast-paced, innovative company? Come make history in Amazon’s Brazil team! We are looking for talented Program Manager for Amazon to work closely with Retail Vendor Recruitment (RVR) team to help our vendors accelerate their growth successfully at Amazon. The RVR team purpose is to connect with main brands in the market and start the relationship to the vendors start work in partnership with Amazon, increasing the opportunities inside the Amazon Store. RVR team is composed by the following 3 programs (Onboarding Excellence, Holdout and Distributors), allocated in this way to guarantee greater efficiency and agility in the strategy to start the partnership with the vendors.   Onboarding Excellence: Team responsible for bring long-tail vendors to work at amazon.  Holdout: Team responsible for start relationship with strategic brands, that need more negotiation lead time.  DIST (Distributors): availability improvement through closer management of the main T2 Distributors and implement scalable mechanisms to guarantee profitability within the thresholds aligned with each PF and mitigate the impact on the business  At Amazon Brazil we value Diversity, Equity and Inclusion (DEI) in all our job positions, therefore, we act intentionally so that our internal environment reflect the plurality of the businesses we play and the customers we serve.  In Brazil, we have a Diversity, Equity and Inclusion squad, which is formed by representatives from different roles and areas, as we understand that this agenda must have different perspectives and multiple experiences. Our leadership is committed and understands more and more their role in sharing and acting on our leadership principles, with the purpose of ‘Strive to Be Earth's Best Employer’.  Understanding our responsibility and our need for change, we are conscientious that ‘Success and Scale Bring Broad Responsibility’.  Our affinity groups are built from and by volunteers from different businesses and they are an active part of our DE&I strategies definition. Besides that, they act as ambassadors of this agenda, and they will support you from Day1. Remember, at Amazon ‘It’s always Day1’. Our groups are organized in the following fronts: BEN - Black Employee Network, Women@Amazon, Glamazon (LGBTQIA+) and People With Disabilities.  Key job responsibilities   Work closely with team leads to scale RVR business  Design and implement reports for RVR programs.  Structure, organize and develop vendor/account facing processes for Account Managers day-to-day activities, focusing on efficiency.  Partner with business teams, peers and stakeholders to drive awareness, engagement on processes developed.  Other Responsibilities   Connect with partner business teams, peers and stakeholders to understand business opportunities on scaling RVR/Selection program.  Partner with Global teams to bring relevant content to Brazil.  Develop reports that will help on efficiency.  Explore vendor experience opportunities to design SOPs to resolve blockers and grow.  Analyze performance data to determine performance and learning objectives that deliver expected business results  A day in the life  The Program Manager will work closely with RVR and selection teams to plan and build scalable reports and processes, focusing on efficiency to scale the selection in Amazon Store; will work with global stakeholders and other central teams in Brazil; She/he will bring insights to the businesses teams and drivers for decision making.  Build self-service reporting platforms, establishing automated processes for large scale data analysis.  This position is the first of its kind within the Brazil Retail organization; an ideal candidate will be comfortable with ambiguity – adding structure to white space in order to operate effectively. They will also be able to Earn Trust across a variety of stakeholder groups, Deliver Results autonomously, and make decisions that are data driven. Learn and understand a broad range of Amazon’s data resources and know how, when, and which to use.   Work closely with the team to understand business challenges and provide data/analysis for better decision making.  Work closely with team lead on scaling vendor funded business to medium vendors.  Build self-service reports through quicksights, establishing automated processes for large scale data analysis.  Define analytical approaches and metrics strategy to uncover new insights and formulate recommendations that improve productivity.  Proactively identify problems and opportunities and perform root cause analysis/diagnosis leading to significant business impact.  We are open to hiring candidates to work out of one of the following locations:  Sao Paulo, SP, BRA  Basic Qualifications   Experience building processes, project management, and schedules  Bachelor's degree in BI, finance, engineering, statistics, computer science, mathematics, finance or equivalent quantitative field  Experience defining program requirements and using data and metrics to determine improvements  Experience in defining and executing against program timeline & requirements  Experience implementing repeatable processes and driving automation or standardization  Knowledge of Excel (Pivot Tables, VLookUps) at an advanced level and SQL  Experience identifying and resolving complex issues  Preferred Qualifications   Experience in defining and implementing process improvement initiatives using data and metrics experience.  Experience in driving process improvements  Experience in complex problem solving, and working in a tight schedule environment.\n",
            "Insira o texto do seu currículo (pressione Enter duas vezes para finalizar):\n",
            "re you looking for a new challenge in a fast-paced, innovative company? Come make history in Amazon’s Brazil team! We are looking for talented Program Manager for Amazon to work closely with Retail Vendor Recruitment (RVR) team to help our vendors accelerate their growth successfully at Amazon. The RVR team purpose is to connect with main brands in the market and start the relationship to the vendors start work in partnership with Amazon, increasing the opportunities inside the Amazon Store. RVR team is composed by the following 3 programs (Onboarding Excellence, Holdout and Distributors), allocated in this way to guarantee greater efficiency and agility in the strategy to start the partnership with the vendors.   Onboarding Excellence: Team responsible for bring long-tail vendors to work at amazon.  Holdout: Team responsible for start relationship with strategic brands, that need more negotiation lead time.  DIST (Distributors): availability improvement through closer management of the main T2 Distributors and implement scalable mechanisms to guarantee profitability within the thresholds aligned with each PF and mitigate the impact on the business  At Amazon Brazil we value Diversity, Equity and Inclusion (DEI) in all our job positions, therefore, we act intentionally so that our internal environment reflect the plurality of the businesses we play and the customers we serve.  In Brazil, we have a Diversity, Equity and Inclusion squad, which is formed by representatives from different roles and areas, as we understand that this agenda must have different perspectives and multiple experiences. Our leadership is committed and understands more and more their role in sharing and acting on our leadership principles, with the purpose of ‘Strive to Be Earth's Best Employer’.  Understanding our responsibility and our need for change, we are conscientious that ‘Success and Scale Bring Broad Responsibility’.  Our affinity groups are built from and by volunteers from different businesses and they are an active part of our DE&I strategies definition. Besides that, they act as ambassadors of this agenda, and they will support you from Day1. Remember, at Amazon ‘It’s always Day1’. Our groups are organized in the following fronts: BEN - Black Employee Network, Women@Amazon, Glamazon (LGBTQIA+) and People With Disabilities.  Key job responsibilities   Work closely with team leads to scale RVR business  Design and implement reports for RVR programs.  Structure, organize and develop vendor/account facing processes for Account Managers day-to-day activities, focusing on efficiency.  Partner with business teams, peers and stakeholders to drive awareness, engagement on processes developed.  Other Responsibilities   Connect with partner business teams, peers and stakeholders to understand business opportunities on scaling RVR/Selection program.  Partner with Global teams to bring relevant content to Brazil.  Develop reports that will help on efficiency.  Explore vendor experience opportunities to design SOPs to resolve blockers and grow.  Analyze performance data to determine performance and learning objectives that deliver expected business results  A day in the life  The Program Manager will work closely with RVR and selection teams to plan and build scalable reports and processes, focusing on efficiency to scale the selection in Amazon Store; will work with global stakeholders and other central teams in Brazil; She/he will bring insights to the businesses teams and drivers for decision making.  Build self-service reporting platforms, establishing automated processes for large scale data analysis.  This position is the first of its kind within the Brazil Retail organization; an ideal candidate will be comfortable with ambiguity – adding structure to white space in order to operate effectively. They will also be able to Earn Trust across a variety of stakeholder groups, Deliver Results autonomously, and make decisions that are data driven. Learn and understand a broad range of Amazon’s data resources and know how, when, and which to use.   Work closely with the team to understand business challenges and provide data/analysis for better decision making.  Work closely with team lead on scaling vendor funded business to medium vendors.  Build self-service reports through quicksights, establishing automated processes for large scale data analysis.  Define analytical approaches and metrics strategy to uncover new insights and formulate recommendations that improve productivity.  Proactively identify problems and opportunities and perform root cause analysis/diagnosis leading to significant business impact.  We are open to hiring candidates to work out of one of the following locations:  Sao Paulo, SP, BRA  Basic Qualifications   Experience building processes, project management, and schedules  Bachelor's degree in BI, finance, engineering, statistics, computer science, mathematics, finance or equivalent quantitative field  Experience defining program requirements and using data and metrics to determine improvements  Experience in defining and executing against program timeline & requirements  Experience implementing repeatable processes and driving automation or standardization  Knowledge of Excel (Pivot Tables, VLookUps) at an advanced level and SQL  Experience identifying and resolving complex issues  Preferred Qualifications   Experience in defining and implementing process improvement initiatives using data and metrics experience.  Experience in driving process improvements  Experience in complex problem solving, and working in a tight schedule environment.\n",
            "\n",
            "\n",
            "Pontuação de Compatibilidade: 27.64%\n",
            "Feedback:\n",
            "- Baixa compatibilidade. Revise se seu currículo destaca as habilidades, experiências e qualificações exigidas na vaga. Pesquise sobre a área e a empresa para entender melhor o que eles buscam.\n",
            "Sugestões de melhoria:\n",
            "- Inclua mais palavras-chave relevantes da descrição da vaga no seu currículo.\n",
            "- Detalhe melhor sua experiência profissional, destacando cargos, empresas e responsabilidades.\n",
            "- Forneça mais informações sobre sua formação educacional, incluindo cursos e instituições.\n",
            "- Destaque suas habilidades técnicas e comportamentais, usando exemplos concretos de como as aplicou em experiências anteriores.\n",
            "\n"
          ]
        }
      ]
    }
  ]
}